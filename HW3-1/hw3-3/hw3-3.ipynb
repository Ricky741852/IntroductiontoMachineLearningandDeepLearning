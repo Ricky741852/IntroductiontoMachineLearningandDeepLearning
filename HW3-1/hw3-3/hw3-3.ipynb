{
 "cells": [
  {
   "cell_type": "markdown",
   "id": "91b59013-6c13-4cd1-b612-0bbf24262943",
   "metadata": {},
   "source": [
    "## HW3-3"
   ]
  },
  {
   "cell_type": "code",
   "execution_count": 6,
   "id": "46b5ddb2-c1c4-483b-81ef-019e4c278a79",
   "metadata": {},
   "outputs": [],
   "source": [
    "import numpy as np\n",
    "import matplotlib.pyplot as plt\n",
    "from scipy.special import comb\n",
    "import math"
   ]
  },
  {
   "cell_type": "code",
   "execution_count": 7,
   "id": "bfceaff7",
   "metadata": {},
   "outputs": [],
   "source": [
    "def factorial_loop (n):\n",
    "    factor = 1\n",
    "    for i in range(1,n+1):\n",
    "        factor *= i\n",
    "    return factor"
   ]
  },
  {
   "cell_type": "code",
   "execution_count": 8,
   "id": "81f57ba8-421e-4b7b-a562-dd3e8e2a590b",
   "metadata": {},
   "outputs": [],
   "source": [
    "def output(e_base: float):\n",
    "    n = 15\n",
    "    probs = [comb(n, i) * e_base**i * (1-e_base)**(n-i)\n",
    "             for i in range(math.ceil(n/2), n+1)]\n",
    "    e_ensemble = sum(probs)\n",
    "    # print(\"The ensemble error rate = {:.3f} when error rate = {:.3f}\\n\".format(e_ensemble, e_base))\n",
    "    return \"The ensemble error rate = {:.3f} when error rate = {:.3f}\\n\".format(e_ensemble, e_base)\n"
   ]
  },
  {
   "cell_type": "code",
   "execution_count": 9,
   "id": "903dbd24-6d24-4ef9-96a4-46b777f99823",
   "metadata": {},
   "outputs": [],
   "source": [
    "def draw():\n",
    "    n = 15\n",
    "    e_bases = np.arange(0, 1, 0.0001)\n",
    "    e_ensembles = [sum([comb(n, i) * e_base**i * (1-e_base)**(n-i)\n",
    "                        for i in range(math.ceil(n/2), n+1)])\n",
    "                   for e_base in e_bases]\n",
    "    plt.plot(e_bases,\n",
    "             e_ensembles,\n",
    "             label='Ensemble error')\n",
    "\n",
    "    plt.plot(e_bases,\n",
    "             e_bases,\n",
    "             linestyle='--',\n",
    "             label='Base error')\n",
    "    plt.grid(True)\n",
    "    plt.title('ErrRate')\n",
    "    plt.xlabel('Base error')\n",
    "    plt.ylabel('Base/Ensemble error')\n",
    "    plt.savefig('Ensemble_error.png')\n",
    "    plt.show()"
   ]
  },
  {
   "cell_type": "code",
   "execution_count": 10,
   "id": "2e9d149b",
   "metadata": {},
   "outputs": [
    {
     "data": {
      "image/png": "[encoded data removed]",
      "text/plain": [
       "<Figure size 432x288 with 1 Axes>"
      ]
     },
     "metadata": {
      "needs_background": "light"
     },
     "output_type": "display_data"
    }
   ],
   "source": [
    "output(0.35)\n",
    "draw()"
   ]
  },
  {
   "cell_type": "markdown",
   "id": "e0e6fa6e",
   "metadata": {},
   "source": []
  }
 ],
 "metadata": {
  "kernelspec": {
   "display_name": "Python 3.9.12 ('base')",
   "language": "python",
   "name": "python3"
  },
  "language_info": {
   "codemirror_mode": {
    "name": "ipython",
    "version": 3
   },
   "file_extension": ".py",
   "mimetype": "text/x-python",
   "name": "python",
   "nbconvert_exporter": "python",
   "pygments_lexer": "ipython3",
   "version": "3.9.12"
  },
  "vscode": {
   "interpreter": {
    "hash": "df5a47594a4c7fa77718041c239adbe925734d95d528854ea959dd8eef4ca91e"
   }
  }
 },
 "nbformat": 4,
 "nbformat_minor": 5
}
