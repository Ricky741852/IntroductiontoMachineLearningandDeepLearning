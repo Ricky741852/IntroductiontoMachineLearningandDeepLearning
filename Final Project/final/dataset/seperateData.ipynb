{
 "cells": [
  {
   "cell_type": "code",
   "execution_count": 14,
   "metadata": {},
   "outputs": [],
   "source": [
    "import csv\n",
    "import shutil\n",
    "filename = '../train_test_y_less.csv'\n",
    "file_source = 'train_test/'\n",
    "file_destination = 'sorted_train_test_less/'\n",
    "with open(filename, newline='\\n') as csvfile:\n",
    "    rows = csv.reader(csvfile, delimiter=',')\n",
    "    for row in rows:\n",
    "        if row[1]=='0':\n",
    "            shutil.copy(file_source + row[0], file_destination+'0/')\n",
    "        if row[1]=='1':\n",
    "            shutil.copy(file_source + row[0], file_destination+'1/')\n",
    "        if row[1]=='2':\n",
    "            shutil.copy(file_source + row[0], file_destination+'2/')\n",
    "        if row[1]=='3':\n",
    "            shutil.copy(file_source + row[0], file_destination+'3/')"
   ]
  }
 ],
 "metadata": {
  "kernelspec": {
   "display_name": "Python 3.7.15 ('python3.7')",
   "language": "python",
   "name": "python3"
  },
  "language_info": {
   "codemirror_mode": {
    "name": "ipython",
    "version": 3
   },
   "file_extension": ".py",
   "mimetype": "text/x-python",
   "name": "python",
   "nbconvert_exporter": "python",
   "pygments_lexer": "ipython3",
   "version": "3.7.15"
  },
  "orig_nbformat": 4,
  "vscode": {
   "interpreter": {
    "hash": "6d257c0f628954ad6055853226616edfd7e76d881f3deffb16729b36119b538c"
   }
  }
 },
 "nbformat": 4,
 "nbformat_minor": 2
}
