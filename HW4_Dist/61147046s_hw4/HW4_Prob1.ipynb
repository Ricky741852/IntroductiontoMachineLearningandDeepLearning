{
 "cells": [
  {
   "cell_type": "markdown",
   "metadata": {},
   "source": [
    "# Description"
   ]
  },
  {
   "cell_type": "markdown",
   "metadata": {},
   "source": [
    "In this problem, we want to implement a perception learning algorithm. Please write a simple python code to achieve the algorithm."
   ]
  },
  {
   "cell_type": "code",
   "execution_count": 1,
   "metadata": {},
   "outputs": [],
   "source": [
    "# import the module\n",
    "import numpy as np"
   ]
  },
  {
   "cell_type": "code",
   "execution_count": 49,
   "metadata": {},
   "outputs": [],
   "source": [
    "def train_weights(train: np.array, l_rate: float, n_epoch: int, weights: iter):\n",
    "    for n in range(n_epoch):\n",
    "        for d in range(len(train)):\n",
    "            z = weights[0] + train[d][0] * weights[1] + train[d][1] * weights[2] + train[d][2] * weights[3]\n",
    "            y = -1 if z < 0 else 1\n",
    "            for w in range(4):\n",
    "                weights[w] = weights[w] + l_rate * (train[d][3] - y) * (1 if w == 0 else train[d][w-1])\n",
    "        print(\"epoch = {}, weights = {:.2f} {:.2f} {:.2f} {:.2f}\".format(n+1, weights[0], weights[1], weights[2], weights[3]))\n",
    "    "
   ]
  },
  {
   "cell_type": "code",
   "execution_count": 50,
   "metadata": {},
   "outputs": [
    {
     "name": "stdout",
     "output_type": "stream",
     "text": [
      "epoch = 1, weights = -0.10 0.30 0.30 0.30\n",
      "epoch = 2, weights = -0.30 0.10 0.30 0.30\n",
      "epoch = 3, weights = -0.30 0.10 0.30 0.30\n",
      "epoch = 4, weights = -0.30 0.10 0.30 0.30\n",
      "epoch = 5, weights = -0.30 0.10 0.30 0.30\n",
      "epoch = 6, weights = -0.30 0.10 0.30 0.30\n",
      "epoch = 7, weights = -0.30 0.10 0.30 0.30\n",
      "epoch = 8, weights = -0.30 0.10 0.30 0.30\n",
      "epoch = 9, weights = -0.30 0.10 0.30 0.30\n",
      "epoch = 10, weights = -0.30 0.10 0.30 0.30\n"
     ]
    }
   ],
   "source": [
    "# This is the dataset we used. It is the same as shown in the 'perceptron.pdf'. \n",
    "# The first three numbers of each row are features, and the last number is the class label.\n",
    "dataset = np.array([\n",
    "    [1, 0, 0, -1],\n",
    "    [1, 0, 1, 1],\n",
    "    [1, 1, 0, 1],\n",
    "    [1, 1, 1, 1],\n",
    "    [0, 0, 1, -1],\n",
    "    [0, 1, 0, -1],\n",
    "    [0, 1, 1, 1],\n",
    "    [0, 0, 0, -1]])\n",
    "\n",
    "# Parameters\n",
    "l_rate = 0.1 # learning rate\n",
    "n_epoch = 10 # number of the epochs\n",
    "init_weights = [0.5, 0.5, 0.5, 0.5] # TODO: implement the initial weights\n",
    "\n",
    "# Call the function and print the results\n",
    "train_weights(dataset, l_rate, n_epoch, init_weights)"
   ]
  },
  {
   "cell_type": "markdown",
   "metadata": {},
   "source": [
    "# The outputs"
   ]
  },
  {
   "cell_type": "markdown",
   "metadata": {},
   "source": [
    "For epoch = 10, learning rate = 0.1, initial weight = 0.5, the output should be displayed as following"
   ]
  },
  {
   "cell_type": "markdown",
   "metadata": {},
   "source": [
    "epoch = 1, weights = -0.10 0.30 0.30 0.30 <br>\n",
    "epoch = 2, weights = -0.30 0.10 0.30 0.30 <br>\n",
    "epoch = 3, weights = -0.30 0.10 0.30 0.30 <br>\n",
    "epoch = 4, weights = -0.30 0.10 0.30 0.30 <br>\n",
    "epoch = 5, weights = -0.30 0.10 0.30 0.30 <br>\n",
    "epoch = 6, weights = -0.30 0.10 0.30 0.30 <br>\n",
    "epoch = 7, weights = -0.30 0.10 0.30 0.30 <br>\n",
    "epoch = 8, weights = -0.30 0.10 0.30 0.30 <br>\n",
    "epoch = 9, weights = -0.30 0.10 0.30 0.30 <br>\n",
    "epoch = 10, weights = -0.30 0.10 0.30 0.30 <br>"
   ]
  }
 ],
 "metadata": {
  "kernelspec": {
   "display_name": "Python 3.9.12 ('base')",
   "language": "python",
   "name": "python3"
  },
  "language_info": {
   "codemirror_mode": {
    "name": "ipython",
    "version": 3
   },
   "file_extension": ".py",
   "mimetype": "text/x-python",
   "name": "python",
   "nbconvert_exporter": "python",
   "pygments_lexer": "ipython3",
   "version": "3.9.12"
  },
  "vscode": {
   "interpreter": {
    "hash": "709221cd6e8e8bb1271bebb288222f3d75e028518a70d134b83bcc07aeaab82d"
   }
  }
 },
 "nbformat": 4,
 "nbformat_minor": 4
}
